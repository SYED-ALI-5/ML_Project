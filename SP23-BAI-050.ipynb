{
 "cells": [
  {
   "cell_type": "markdown",
   "metadata": {},
   "source": [
    "# SP23-BAI-050\n",
    "# SYED AHMAD ALI\n",
    "# Dataset Name = \"Default of Credit Card Clients Dataset\"\n",
    "# Applying Random Forest"
   ]
  },
  {
   "cell_type": "markdown",
   "metadata": {},
   "source": [
    "## -----------------------------------------------------------------------------"
   ]
  },
  {
   "cell_type": "markdown",
   "metadata": {},
   "source": [
    "## Importing All the Required Libraries"
   ]
  },
  {
   "cell_type": "code",
   "execution_count": 1,
   "metadata": {},
   "outputs": [],
   "source": [
    "import time\n",
    "import pandas as pd\n",
    "import numpy as np\n",
    "import matplotlib.pyplot as plt\n",
    "from imblearn.over_sampling import SMOTE\n",
    "from sklearn.preprocessing import StandardScaler\n",
    "from sklearn.model_selection import RandomizedSearchCV\n",
    "from sklearn.model_selection import train_test_split\n",
    "from sklearn.ensemble import RandomForestClassifier\n",
    "from sklearn.metrics import classification_report, confusion_matrix, accuracy_score, ConfusionMatrixDisplay"
   ]
  },
  {
   "cell_type": "markdown",
   "metadata": {},
   "source": [
    "## Giving file path and make it accessible"
   ]
  },
  {
   "cell_type": "code",
   "execution_count": 2,
   "metadata": {},
   "outputs": [],
   "source": [
    "file_path = './UCI_Credit_Card.csv'\n",
    "data = pd.read_csv(file_path)"
   ]
  },
  {
   "cell_type": "markdown",
   "metadata": {},
   "source": [
    "## Print the specific data from the dataset to review the dataset"
   ]
  },
  {
   "cell_type": "code",
   "execution_count": 3,
   "metadata": {},
   "outputs": [
    {
     "name": "stdout",
     "output_type": "stream",
     "text": [
      "          ID  LIMIT_BAL  SEX  EDUCATION  MARRIAGE  AGE  PAY_0  PAY_2  PAY_3  \\\n",
      "0          1    20000.0    2          2         1   24      2      2     -1   \n",
      "1          2   120000.0    2          2         2   26     -1      2      0   \n",
      "2          3    90000.0    2          2         2   34      0      0      0   \n",
      "3          4    50000.0    2          2         1   37      0      0      0   \n",
      "4          5    50000.0    1          2         1   57     -1      0     -1   \n",
      "...      ...        ...  ...        ...       ...  ...    ...    ...    ...   \n",
      "29995  29996   220000.0    1          3         1   39      0      0      0   \n",
      "29996  29997   150000.0    1          3         2   43     -1     -1     -1   \n",
      "29997  29998    30000.0    1          2         2   37      4      3      2   \n",
      "29998  29999    80000.0    1          3         1   41      1     -1      0   \n",
      "29999  30000    50000.0    1          2         1   46      0      0      0   \n",
      "\n",
      "       PAY_4  ...  BILL_AMT4  BILL_AMT5  BILL_AMT6  PAY_AMT1  PAY_AMT2  \\\n",
      "0         -1  ...        0.0        0.0        0.0       0.0     689.0   \n",
      "1          0  ...     3272.0     3455.0     3261.0       0.0    1000.0   \n",
      "2          0  ...    14331.0    14948.0    15549.0    1518.0    1500.0   \n",
      "3          0  ...    28314.0    28959.0    29547.0    2000.0    2019.0   \n",
      "4          0  ...    20940.0    19146.0    19131.0    2000.0   36681.0   \n",
      "...      ...  ...        ...        ...        ...       ...       ...   \n",
      "29995      0  ...    88004.0    31237.0    15980.0    8500.0   20000.0   \n",
      "29996     -1  ...     8979.0     5190.0        0.0    1837.0    3526.0   \n",
      "29997     -1  ...    20878.0    20582.0    19357.0       0.0       0.0   \n",
      "29998      0  ...    52774.0    11855.0    48944.0   85900.0    3409.0   \n",
      "29999      0  ...    36535.0    32428.0    15313.0    2078.0    1800.0   \n",
      "\n",
      "       PAY_AMT3  PAY_AMT4  PAY_AMT5  PAY_AMT6  default.payment.next.month  \n",
      "0           0.0       0.0       0.0       0.0                           1  \n",
      "1        1000.0    1000.0       0.0    2000.0                           1  \n",
      "2        1000.0    1000.0    1000.0    5000.0                           0  \n",
      "3        1200.0    1100.0    1069.0    1000.0                           0  \n",
      "4       10000.0    9000.0     689.0     679.0                           0  \n",
      "...         ...       ...       ...       ...                         ...  \n",
      "29995    5003.0    3047.0    5000.0    1000.0                           0  \n",
      "29996    8998.0     129.0       0.0       0.0                           0  \n",
      "29997   22000.0    4200.0    2000.0    3100.0                           1  \n",
      "29998    1178.0    1926.0   52964.0    1804.0                           1  \n",
      "29999    1430.0    1000.0    1000.0    1000.0                           1  \n",
      "\n",
      "[30000 rows x 25 columns]\n",
      "<class 'pandas.core.frame.DataFrame'>\n",
      "RangeIndex: 30000 entries, 0 to 29999\n",
      "Data columns (total 25 columns):\n",
      " #   Column                      Non-Null Count  Dtype  \n",
      "---  ------                      --------------  -----  \n",
      " 0   ID                          30000 non-null  int64  \n",
      " 1   LIMIT_BAL                   30000 non-null  float64\n",
      " 2   SEX                         30000 non-null  int64  \n",
      " 3   EDUCATION                   30000 non-null  int64  \n",
      " 4   MARRIAGE                    30000 non-null  int64  \n",
      " 5   AGE                         30000 non-null  int64  \n",
      " 6   PAY_0                       30000 non-null  int64  \n",
      " 7   PAY_2                       30000 non-null  int64  \n",
      " 8   PAY_3                       30000 non-null  int64  \n",
      " 9   PAY_4                       30000 non-null  int64  \n",
      " 10  PAY_5                       30000 non-null  int64  \n",
      " 11  PAY_6                       30000 non-null  int64  \n",
      " 12  BILL_AMT1                   30000 non-null  float64\n",
      " 13  BILL_AMT2                   30000 non-null  float64\n",
      " 14  BILL_AMT3                   30000 non-null  float64\n",
      " 15  BILL_AMT4                   30000 non-null  float64\n",
      " 16  BILL_AMT5                   30000 non-null  float64\n",
      " 17  BILL_AMT6                   30000 non-null  float64\n",
      " 18  PAY_AMT1                    30000 non-null  float64\n",
      " 19  PAY_AMT2                    30000 non-null  float64\n",
      " 20  PAY_AMT3                    30000 non-null  float64\n",
      " 21  PAY_AMT4                    30000 non-null  float64\n",
      " 22  PAY_AMT5                    30000 non-null  float64\n",
      " 23  PAY_AMT6                    30000 non-null  float64\n",
      " 24  default.payment.next.month  30000 non-null  int64  \n",
      "dtypes: float64(13), int64(12)\n",
      "memory usage: 5.7 MB\n",
      "None\n",
      "                 ID       LIMIT_BAL           SEX     EDUCATION      MARRIAGE  \\\n",
      "count  30000.000000    30000.000000  30000.000000  30000.000000  30000.000000   \n",
      "mean   15000.500000   167484.322667      1.603733      1.853133      1.551867   \n",
      "std     8660.398374   129747.661567      0.489129      0.790349      0.521970   \n",
      "min        1.000000    10000.000000      1.000000      0.000000      0.000000   \n",
      "25%     7500.750000    50000.000000      1.000000      1.000000      1.000000   \n",
      "50%    15000.500000   140000.000000      2.000000      2.000000      2.000000   \n",
      "75%    22500.250000   240000.000000      2.000000      2.000000      2.000000   \n",
      "max    30000.000000  1000000.000000      2.000000      6.000000      3.000000   \n",
      "\n",
      "                AGE         PAY_0         PAY_2         PAY_3         PAY_4  \\\n",
      "count  30000.000000  30000.000000  30000.000000  30000.000000  30000.000000   \n",
      "mean      35.485500     -0.016700     -0.133767     -0.166200     -0.220667   \n",
      "std        9.217904      1.123802      1.197186      1.196868      1.169139   \n",
      "min       21.000000     -2.000000     -2.000000     -2.000000     -2.000000   \n",
      "25%       28.000000     -1.000000     -1.000000     -1.000000     -1.000000   \n",
      "50%       34.000000      0.000000      0.000000      0.000000      0.000000   \n",
      "75%       41.000000      0.000000      0.000000      0.000000      0.000000   \n",
      "max       79.000000      8.000000      8.000000      8.000000      8.000000   \n",
      "\n",
      "       ...      BILL_AMT4      BILL_AMT5      BILL_AMT6       PAY_AMT1  \\\n",
      "count  ...   30000.000000   30000.000000   30000.000000   30000.000000   \n",
      "mean   ...   43262.948967   40311.400967   38871.760400    5663.580500   \n",
      "std    ...   64332.856134   60797.155770   59554.107537   16563.280354   \n",
      "min    ... -170000.000000  -81334.000000 -339603.000000       0.000000   \n",
      "25%    ...    2326.750000    1763.000000    1256.000000    1000.000000   \n",
      "50%    ...   19052.000000   18104.500000   17071.000000    2100.000000   \n",
      "75%    ...   54506.000000   50190.500000   49198.250000    5006.000000   \n",
      "max    ...  891586.000000  927171.000000  961664.000000  873552.000000   \n",
      "\n",
      "           PAY_AMT2      PAY_AMT3       PAY_AMT4       PAY_AMT5  \\\n",
      "count  3.000000e+04   30000.00000   30000.000000   30000.000000   \n",
      "mean   5.921163e+03    5225.68150    4826.076867    4799.387633   \n",
      "std    2.304087e+04   17606.96147   15666.159744   15278.305679   \n",
      "min    0.000000e+00       0.00000       0.000000       0.000000   \n",
      "25%    8.330000e+02     390.00000     296.000000     252.500000   \n",
      "50%    2.009000e+03    1800.00000    1500.000000    1500.000000   \n",
      "75%    5.000000e+03    4505.00000    4013.250000    4031.500000   \n",
      "max    1.684259e+06  896040.00000  621000.000000  426529.000000   \n",
      "\n",
      "            PAY_AMT6  default.payment.next.month  \n",
      "count   30000.000000                30000.000000  \n",
      "mean     5215.502567                    0.221200  \n",
      "std     17777.465775                    0.415062  \n",
      "min         0.000000                    0.000000  \n",
      "25%       117.750000                    0.000000  \n",
      "50%      1500.000000                    0.000000  \n",
      "75%      4000.000000                    0.000000  \n",
      "max    528666.000000                    1.000000  \n",
      "\n",
      "[8 rows x 25 columns]\n",
      "Index(['ID', 'LIMIT_BAL', 'SEX', 'EDUCATION', 'MARRIAGE', 'AGE', 'PAY_0',\n",
      "       'PAY_2', 'PAY_3', 'PAY_4', 'PAY_5', 'PAY_6', 'BILL_AMT1', 'BILL_AMT2',\n",
      "       'BILL_AMT3', 'BILL_AMT4', 'BILL_AMT5', 'BILL_AMT6', 'PAY_AMT1',\n",
      "       'PAY_AMT2', 'PAY_AMT3', 'PAY_AMT4', 'PAY_AMT5', 'PAY_AMT6',\n",
      "       'default.payment.next.month'],\n",
      "      dtype='object')\n"
     ]
    }
   ],
   "source": [
    "print(data)\n",
    "print(data.info())\n",
    "print(data.describe())\n",
    "print(data.columns)"
   ]
  },
  {
   "cell_type": "markdown",
   "metadata": {},
   "source": [
    "## Calculating the percentage of missing data for each column\n",
    "\n",
    "\"No Handling of missing data bcz there is no any missing data in the data set.\""
   ]
  },
  {
   "cell_type": "code",
   "execution_count": 4,
   "metadata": {},
   "outputs": [
    {
     "name": "stdout",
     "output_type": "stream",
     "text": [
      "ID                            0.0\n",
      "LIMIT_BAL                     0.0\n",
      "SEX                           0.0\n",
      "EDUCATION                     0.0\n",
      "MARRIAGE                      0.0\n",
      "AGE                           0.0\n",
      "PAY_0                         0.0\n",
      "PAY_2                         0.0\n",
      "PAY_3                         0.0\n",
      "PAY_4                         0.0\n",
      "PAY_5                         0.0\n",
      "PAY_6                         0.0\n",
      "BILL_AMT1                     0.0\n",
      "BILL_AMT2                     0.0\n",
      "BILL_AMT3                     0.0\n",
      "BILL_AMT4                     0.0\n",
      "BILL_AMT5                     0.0\n",
      "BILL_AMT6                     0.0\n",
      "PAY_AMT1                      0.0\n",
      "PAY_AMT2                      0.0\n",
      "PAY_AMT3                      0.0\n",
      "PAY_AMT4                      0.0\n",
      "PAY_AMT5                      0.0\n",
      "PAY_AMT6                      0.0\n",
      "default.payment.next.month    0.0\n",
      "dtype: float64\n"
     ]
    }
   ],
   "source": [
    "missing_percentage = (data.isnull().sum() / len(data)) * 100\n",
    "print(missing_percentage)"
   ]
  },
  {
   "cell_type": "markdown",
   "metadata": {},
   "source": [
    "# Converting the DataSet into a DATAFRAME\n",
    "\n",
    "# Checking Class Imbalance Issues:\n",
    "\n",
    "Imbalanced data means the number of data points across a class label is not uniform.\n",
    "\n",
    "# Output Interpretation:\n",
    "1- Balanced Dataset: If the counts of each class are roughly equal, your dataset is balanced.\n",
    "\n",
    "2- Imbalanced Dataset: If one class significantly outnumbers the other, it indicates class imbalance."
   ]
  },
  {
   "cell_type": "code",
   "execution_count": 5,
   "metadata": {},
   "outputs": [
    {
     "name": "stdout",
     "output_type": "stream",
     "text": [
      "          ID  LIMIT_BAL  SEX  EDUCATION  MARRIAGE  AGE  PAY_0  PAY_2  PAY_3  \\\n",
      "0          1    20000.0    2          2         1   24      2      2     -1   \n",
      "1          2   120000.0    2          2         2   26     -1      2      0   \n",
      "2          3    90000.0    2          2         2   34      0      0      0   \n",
      "3          4    50000.0    2          2         1   37      0      0      0   \n",
      "4          5    50000.0    1          2         1   57     -1      0     -1   \n",
      "...      ...        ...  ...        ...       ...  ...    ...    ...    ...   \n",
      "29995  29996   220000.0    1          3         1   39      0      0      0   \n",
      "29996  29997   150000.0    1          3         2   43     -1     -1     -1   \n",
      "29997  29998    30000.0    1          2         2   37      4      3      2   \n",
      "29998  29999    80000.0    1          3         1   41      1     -1      0   \n",
      "29999  30000    50000.0    1          2         1   46      0      0      0   \n",
      "\n",
      "       PAY_4  ...  BILL_AMT4  BILL_AMT5  BILL_AMT6  PAY_AMT1  PAY_AMT2  \\\n",
      "0         -1  ...        0.0        0.0        0.0       0.0     689.0   \n",
      "1          0  ...     3272.0     3455.0     3261.0       0.0    1000.0   \n",
      "2          0  ...    14331.0    14948.0    15549.0    1518.0    1500.0   \n",
      "3          0  ...    28314.0    28959.0    29547.0    2000.0    2019.0   \n",
      "4          0  ...    20940.0    19146.0    19131.0    2000.0   36681.0   \n",
      "...      ...  ...        ...        ...        ...       ...       ...   \n",
      "29995      0  ...    88004.0    31237.0    15980.0    8500.0   20000.0   \n",
      "29996     -1  ...     8979.0     5190.0        0.0    1837.0    3526.0   \n",
      "29997     -1  ...    20878.0    20582.0    19357.0       0.0       0.0   \n",
      "29998      0  ...    52774.0    11855.0    48944.0   85900.0    3409.0   \n",
      "29999      0  ...    36535.0    32428.0    15313.0    2078.0    1800.0   \n",
      "\n",
      "       PAY_AMT3  PAY_AMT4  PAY_AMT5  PAY_AMT6  default.payment.next.month  \n",
      "0           0.0       0.0       0.0       0.0                           1  \n",
      "1        1000.0    1000.0       0.0    2000.0                           1  \n",
      "2        1000.0    1000.0    1000.0    5000.0                           0  \n",
      "3        1200.0    1100.0    1069.0    1000.0                           0  \n",
      "4       10000.0    9000.0     689.0     679.0                           0  \n",
      "...         ...       ...       ...       ...                         ...  \n",
      "29995    5003.0    3047.0    5000.0    1000.0                           0  \n",
      "29996    8998.0     129.0       0.0       0.0                           0  \n",
      "29997   22000.0    4200.0    2000.0    3100.0                           1  \n",
      "29998    1178.0    1926.0   52964.0    1804.0                           1  \n",
      "29999    1430.0    1000.0    1000.0    1000.0                           1  \n",
      "\n",
      "[30000 rows x 25 columns]\n",
      "Original Class Distribution: default.payment.next.month\n",
      "0    23364\n",
      "1     6636\n",
      "Name: count, dtype: int64\n"
     ]
    },
    {
     "data": {
      "image/png": "[encoded data removed]",
      "text/plain": [
       "<Figure size 640x480 with 1 Axes>"
      ]
     },
     "metadata": {},
     "output_type": "display_data"
    }
   ],
   "source": [
    "df = pd.DataFrame(data)\n",
    "print(df)\n",
    "\n",
    "class_distribution = data['default.payment.next.month'].value_counts()\n",
    "print(f\"Original Class Distribution: {class_distribution}\")\n",
    "\n",
    "class_distribution.plot(kind='bar', color=['skyblue', 'orange'])\n",
    "plt.title('Class Distribution')\n",
    "plt.xlabel('Classes')\n",
    "plt.ylabel('Frequency')\n",
    "plt.xticks(rotation=0)\n",
    "plt.show()"
   ]
  },
  {
   "cell_type": "markdown",
   "metadata": {},
   "source": [
    "# Splitting features (X) and target (y)\n",
    "\n",
    "# Resolution of the class imbalance distribution issue.\n",
    "\n",
    "# Checking the new class distribution"
   ]
  },
  {
   "cell_type": "code",
   "execution_count": 6,
   "metadata": {},
   "outputs": [
    {
     "name": "stdout",
     "output_type": "stream",
     "text": [
      "Class Distribution After SMOTE:\n",
      "default.payment.next.month\n",
      "1    23364\n",
      "0    23364\n",
      "Name: count, dtype: int64\n"
     ]
    },
    {
     "data": {
      "image/png": "[encoded data removed]",
      "text/plain": [
       "<Figure size 640x480 with 1 Axes>"
      ]
     },
     "metadata": {},
     "output_type": "display_data"
    }
   ],
   "source": [
    "X = df.drop('default.payment.next.month', axis=1)\n",
    "y = df['default.payment.next.month']\n",
    "\n",
    "smote = SMOTE(random_state=42)\n",
    "X_resampled, y_resampled = smote.fit_resample(X,y)\n",
    "\n",
    "print(\"Class Distribution After SMOTE:\")\n",
    "print(pd.Series(y_resampled).value_counts())\n",
    "\n",
    "class_distribution = pd.Series(y_resampled).value_counts()\n",
    "class_distribution.plot(kind='bar', color=['skyblue', 'orange'])\n",
    "plt.title('Class Distribution')\n",
    "plt.xlabel('Classes')\n",
    "plt.ylabel('Frequency')\n",
    "plt.xticks(rotation=0)\n",
    "plt.show()"
   ]
  },
  {
   "cell_type": "markdown",
   "metadata": {},
   "source": [
    "# Applying Train Test Split of Dataset in 80/20 Ratio\n",
    "\n",
    "# Initialize Parameter Grid for RandomizedSearchCV\n",
    "\n",
    "# Initialize Random Forest Classifier"
   ]
  },
  {
   "cell_type": "code",
   "execution_count": 7,
   "metadata": {},
   "outputs": [],
   "source": [
    "X_train, X_test, y_train, y_test = train_test_split(X_resampled, y_resampled, test_size=0.2, random_state=42)\n",
    "\n",
    "\"Scaling\"\n",
    "scaler = StandardScaler()\n",
    "X_train = scaler.fit_transform(X_train)\n",
    "X_test = scaler.transform(X_test)\n",
    "\n",
    "paramiterGrid = {\n",
    "    \"n_estimators\": [50, 100, 150, 200],\n",
    "    \"max_depth\": [None, 10, 20, 30, 40],\n",
    "    \"min_samples_split\": [2, 5, 10],\n",
    "    \"min_samples_leaf\": [1, 2, 4],\n",
    "    \"max_features\": [\"sqrt\", \"log2\", None],\n",
    "    \"bootstrap\": [True, False],\n",
    "    \"criterion\": [\"gini\", \"entropy\"]\n",
    "}\n",
    "\n",
    "randomForest = RandomForestClassifier()"
   ]
  },
  {
   "cell_type": "markdown",
   "metadata": {},
   "source": [
    "# RandomizedSearchCV\n",
    "\n",
    "1- Reduced to 50 iterations for quicker training\n",
    "\n",
    "2- 3 fold cross-validation\n",
    "\n",
    "3- Enable verbosity\n",
    "\n",
    "4- Utilize all processors\n",
    "\n",
    "# Fitting parameters\n",
    "\n",
    "# Selecting the best parameters found during the RandomizedSearchCV\n",
    "\n",
    "# Making Predictions\n",
    "\n",
    "# Calculating the Execution Time"
   ]
  },
  {
   "cell_type": "code",
   "execution_count": 8,
   "metadata": {},
   "outputs": [
    {
     "name": "stdout",
     "output_type": "stream",
     "text": [
      "Fitting 3 folds for each of 50 candidates, totalling 150 fits\n",
      "[CV] END bootstrap=True, criterion=entropy, max_depth=20, max_features=log2, min_samples_leaf=4, min_samples_split=10, n_estimators=50; total time=   7.1s\n",
      "[CV] END bootstrap=True, criterion=entropy, max_depth=20, max_features=log2, min_samples_leaf=4, min_samples_split=10, n_estimators=50; total time=   7.1s\n",
      "[CV] END bootstrap=True, criterion=entropy, max_depth=20, max_features=log2, min_samples_leaf=4, min_samples_split=10, n_estimators=50; total time=   7.3s\n",
      "[CV] END bootstrap=True, criterion=entropy, max_depth=20, max_features=sqrt, min_samples_leaf=4, min_samples_split=5, n_estimators=50; total time=   8.1s\n",
      "[CV] END bootstrap=False, criterion=gini, max_depth=20, max_features=log2, min_samples_leaf=1, min_samples_split=10, n_estimators=100; total time=  19.7s\n",
      "[CV] END bootstrap=False, criterion=gini, max_depth=20, max_features=log2, min_samples_leaf=1, min_samples_split=10, n_estimators=100; total time=  19.8s\n",
      "[CV] END bootstrap=False, criterion=gini, max_depth=20, max_features=log2, min_samples_leaf=1, min_samples_split=10, n_estimators=100; total time=  20.0s\n",
      "[CV] END bootstrap=False, criterion=gini, max_depth=10, max_features=log2, min_samples_leaf=2, min_samples_split=5, n_estimators=150; total time=  19.8s\n",
      "[CV] END bootstrap=True, criterion=entropy, max_depth=20, max_features=sqrt, min_samples_leaf=4, min_samples_split=5, n_estimators=50; total time=   7.2s\n",
      "[CV] END bootstrap=True, criterion=entropy, max_depth=20, max_features=sqrt, min_samples_leaf=4, min_samples_split=5, n_estimators=50; total time=   6.9s\n",
      "[CV] END bootstrap=False, criterion=gini, max_depth=10, max_features=log2, min_samples_leaf=2, min_samples_split=5, n_estimators=150; total time=  19.3s\n",
      "[CV] END bootstrap=False, criterion=gini, max_depth=10, max_features=log2, min_samples_leaf=2, min_samples_split=5, n_estimators=150; total time=  19.4s\n",
      "[CV] END bootstrap=False, criterion=gini, max_depth=None, max_features=sqrt, min_samples_leaf=2, min_samples_split=2, n_estimators=150; total time=  30.4s\n",
      "[CV] END bootstrap=False, criterion=gini, max_depth=None, max_features=sqrt, min_samples_leaf=2, min_samples_split=2, n_estimators=150; total time=  30.5s\n",
      "[CV] END bootstrap=False, criterion=gini, max_depth=None, max_features=sqrt, min_samples_leaf=2, min_samples_split=2, n_estimators=150; total time=  30.5s\n",
      "[CV] END bootstrap=True, criterion=gini, max_depth=20, max_features=None, min_samples_leaf=4, min_samples_split=10, n_estimators=50; total time=  31.5s\n",
      "[CV] END bootstrap=True, criterion=gini, max_depth=20, max_features=None, min_samples_leaf=4, min_samples_split=10, n_estimators=50; total time=  31.9s\n",
      "[CV] END bootstrap=True, criterion=gini, max_depth=20, max_features=None, min_samples_leaf=4, min_samples_split=10, n_estimators=50; total time=  32.6s\n",
      "[CV] END bootstrap=True, criterion=entropy, max_depth=10, max_features=log2, min_samples_leaf=1, min_samples_split=2, n_estimators=200; total time=  20.8s\n",
      "[CV] END bootstrap=True, criterion=entropy, max_depth=10, max_features=log2, min_samples_leaf=1, min_samples_split=2, n_estimators=200; total time=  20.1s\n",
      "[CV] END bootstrap=True, criterion=entropy, max_depth=10, max_features=log2, min_samples_leaf=1, min_samples_split=2, n_estimators=200; total time=  20.3s\n",
      "[CV] END bootstrap=False, criterion=gini, max_depth=30, max_features=sqrt, min_samples_leaf=2, min_samples_split=2, n_estimators=100; total time=  18.0s\n",
      "[CV] END bootstrap=False, criterion=gini, max_depth=30, max_features=sqrt, min_samples_leaf=2, min_samples_split=2, n_estimators=100; total time=  17.7s\n",
      "[CV] END bootstrap=False, criterion=gini, max_depth=30, max_features=sqrt, min_samples_leaf=2, min_samples_split=2, n_estimators=100; total time=  18.0s\n",
      "[CV] END bootstrap=True, criterion=entropy, max_depth=30, max_features=log2, min_samples_leaf=2, min_samples_split=5, n_estimators=50; total time=   8.7s\n",
      "[CV] END bootstrap=False, criterion=gini, max_depth=40, max_features=log2, min_samples_leaf=1, min_samples_split=2, n_estimators=150; total time=  30.2s\n",
      "[CV] END bootstrap=True, criterion=entropy, max_depth=30, max_features=log2, min_samples_leaf=2, min_samples_split=5, n_estimators=50; total time=   8.9s\n",
      "[CV] END bootstrap=True, criterion=entropy, max_depth=30, max_features=log2, min_samples_leaf=2, min_samples_split=5, n_estimators=50; total time=   8.9s\n",
      "[CV] END bootstrap=True, criterion=gini, max_depth=30, max_features=log2, min_samples_leaf=1, min_samples_split=2, n_estimators=200; total time=  25.9s\n",
      "[CV] END bootstrap=False, criterion=gini, max_depth=40, max_features=log2, min_samples_leaf=1, min_samples_split=2, n_estimators=150; total time=  29.9s\n",
      "[CV] END bootstrap=False, criterion=gini, max_depth=40, max_features=log2, min_samples_leaf=1, min_samples_split=2, n_estimators=150; total time=  30.2s\n",
      "[CV] END bootstrap=False, criterion=gini, max_depth=40, max_features=sqrt, min_samples_leaf=4, min_samples_split=2, n_estimators=50; total time=   8.9s\n",
      "[CV] END bootstrap=False, criterion=gini, max_depth=40, max_features=sqrt, min_samples_leaf=4, min_samples_split=2, n_estimators=50; total time=   8.9s\n",
      "[CV] END bootstrap=True, criterion=entropy, max_depth=20, max_features=sqrt, min_samples_leaf=4, min_samples_split=2, n_estimators=50; total time=   6.7s\n",
      "[CV] END bootstrap=False, criterion=gini, max_depth=40, max_features=sqrt, min_samples_leaf=4, min_samples_split=2, n_estimators=50; total time=   8.8s\n",
      "[CV] END bootstrap=True, criterion=entropy, max_depth=20, max_features=sqrt, min_samples_leaf=4, min_samples_split=2, n_estimators=50; total time=   6.8s\n",
      "[CV] END bootstrap=False, criterion=entropy, max_depth=None, max_features=sqrt, min_samples_leaf=2, min_samples_split=5, n_estimators=200; total time=  48.9s\n",
      "[CV] END bootstrap=False, criterion=entropy, max_depth=None, max_features=sqrt, min_samples_leaf=2, min_samples_split=5, n_estimators=200; total time=  48.6s\n",
      "[CV] END bootstrap=False, criterion=entropy, max_depth=None, max_features=sqrt, min_samples_leaf=2, min_samples_split=5, n_estimators=200; total time=  49.1s\n",
      "[CV] END bootstrap=True, criterion=gini, max_depth=30, max_features=log2, min_samples_leaf=1, min_samples_split=2, n_estimators=200; total time=  27.4s\n",
      "[CV] END bootstrap=True, criterion=entropy, max_depth=20, max_features=log2, min_samples_leaf=1, min_samples_split=10, n_estimators=150; total time=  25.0s\n",
      "[CV] END bootstrap=True, criterion=gini, max_depth=30, max_features=log2, min_samples_leaf=1, min_samples_split=2, n_estimators=200; total time=  28.5s\n",
      "[CV] END bootstrap=True, criterion=entropy, max_depth=20, max_features=sqrt, min_samples_leaf=4, min_samples_split=2, n_estimators=50; total time=   9.0s\n",
      "[CV] END bootstrap=False, criterion=gini, max_depth=None, max_features=log2, min_samples_leaf=2, min_samples_split=10, n_estimators=50; total time=  10.7s\n",
      "[CV] END bootstrap=False, criterion=gini, max_depth=None, max_features=log2, min_samples_leaf=2, min_samples_split=10, n_estimators=50; total time=  10.8s\n",
      "[CV] END bootstrap=False, criterion=gini, max_depth=None, max_features=log2, min_samples_leaf=2, min_samples_split=10, n_estimators=50; total time=  10.7s\n",
      "[CV] END bootstrap=True, criterion=entropy, max_depth=20, max_features=log2, min_samples_leaf=1, min_samples_split=10, n_estimators=150; total time=  24.0s\n",
      "[CV] END bootstrap=True, criterion=entropy, max_depth=20, max_features=log2, min_samples_leaf=1, min_samples_split=10, n_estimators=150; total time=  23.8s\n",
      "[CV] END bootstrap=True, criterion=entropy, max_depth=30, max_features=log2, min_samples_leaf=4, min_samples_split=5, n_estimators=50; total time=   7.2s\n",
      "[CV] END bootstrap=True, criterion=entropy, max_depth=30, max_features=log2, min_samples_leaf=4, min_samples_split=5, n_estimators=50; total time=   7.2s\n",
      "[CV] END bootstrap=True, criterion=entropy, max_depth=30, max_features=log2, min_samples_leaf=4, min_samples_split=5, n_estimators=50; total time=   7.7s\n",
      "[CV] END bootstrap=False, criterion=gini, max_depth=30, max_features=log2, min_samples_leaf=1, min_samples_split=5, n_estimators=100; total time=  19.9s\n",
      "[CV] END bootstrap=False, criterion=gini, max_depth=30, max_features=log2, min_samples_leaf=1, min_samples_split=5, n_estimators=100; total time=  20.0s\n",
      "[CV] END bootstrap=False, criterion=gini, max_depth=30, max_features=log2, min_samples_leaf=1, min_samples_split=5, n_estimators=100; total time=  20.5s\n",
      "[CV] END bootstrap=False, criterion=gini, max_depth=30, max_features=None, min_samples_leaf=4, min_samples_split=2, n_estimators=50; total time=  49.4s\n",
      "[CV] END bootstrap=False, criterion=gini, max_depth=30, max_features=None, min_samples_leaf=4, min_samples_split=2, n_estimators=50; total time=  49.0s\n",
      "[CV] END bootstrap=False, criterion=gini, max_depth=30, max_features=None, min_samples_leaf=4, min_samples_split=2, n_estimators=50; total time=  49.3s\n",
      "[CV] END bootstrap=False, criterion=gini, max_depth=30, max_features=sqrt, min_samples_leaf=2, min_samples_split=5, n_estimators=200; total time=  38.1s\n",
      "[CV] END bootstrap=False, criterion=gini, max_depth=30, max_features=sqrt, min_samples_leaf=2, min_samples_split=5, n_estimators=200; total time=  38.0s\n",
      "[CV] END bootstrap=False, criterion=gini, max_depth=30, max_features=sqrt, min_samples_leaf=2, min_samples_split=5, n_estimators=200; total time=  37.9s\n",
      "[CV] END bootstrap=True, criterion=entropy, max_depth=20, max_features=sqrt, min_samples_leaf=4, min_samples_split=10, n_estimators=50; total time=   7.1s\n",
      "[CV] END bootstrap=True, criterion=entropy, max_depth=20, max_features=sqrt, min_samples_leaf=4, min_samples_split=10, n_estimators=50; total time=   7.1s\n",
      "[CV] END bootstrap=True, criterion=entropy, max_depth=20, max_features=sqrt, min_samples_leaf=4, min_samples_split=10, n_estimators=50; total time=   7.2s\n",
      "[CV] END bootstrap=False, criterion=gini, max_depth=30, max_features=log2, min_samples_leaf=1, min_samples_split=2, n_estimators=200; total time=  40.1s\n",
      "[CV] END bootstrap=False, criterion=gini, max_depth=30, max_features=log2, min_samples_leaf=1, min_samples_split=2, n_estimators=200; total time=  40.1s\n",
      "[CV] END bootstrap=True, criterion=gini, max_depth=None, max_features=log2, min_samples_leaf=4, min_samples_split=2, n_estimators=150; total time=  18.2s\n",
      "[CV] END bootstrap=False, criterion=gini, max_depth=30, max_features=log2, min_samples_leaf=1, min_samples_split=2, n_estimators=200; total time=  40.0s\n",
      "[CV] END bootstrap=False, criterion=entropy, max_depth=40, max_features=sqrt, min_samples_leaf=1, min_samples_split=2, n_estimators=50; total time=  12.4s\n",
      "[CV] END bootstrap=False, criterion=entropy, max_depth=40, max_features=sqrt, min_samples_leaf=1, min_samples_split=2, n_estimators=50; total time=  12.4s\n",
      "[CV] END bootstrap=True, criterion=gini, max_depth=None, max_features=log2, min_samples_leaf=4, min_samples_split=2, n_estimators=150; total time=  17.5s\n",
      "[CV] END bootstrap=True, criterion=gini, max_depth=None, max_features=log2, min_samples_leaf=4, min_samples_split=2, n_estimators=150; total time=  17.6s\n",
      "[CV] END bootstrap=False, criterion=entropy, max_depth=40, max_features=sqrt, min_samples_leaf=1, min_samples_split=2, n_estimators=50; total time=  12.5s\n",
      "[CV] END bootstrap=False, criterion=entropy, max_depth=None, max_features=None, min_samples_leaf=1, min_samples_split=5, n_estimators=150; total time= 3.2min\n",
      "[CV] END bootstrap=False, criterion=entropy, max_depth=None, max_features=None, min_samples_leaf=1, min_samples_split=5, n_estimators=150; total time= 3.2min\n",
      "[CV] END bootstrap=False, criterion=entropy, max_depth=None, max_features=None, min_samples_leaf=1, min_samples_split=5, n_estimators=150; total time= 3.3min\n",
      "[CV] END bootstrap=False, criterion=entropy, max_depth=30, max_features=None, min_samples_leaf=4, min_samples_split=5, n_estimators=100; total time= 2.0min\n",
      "[CV] END bootstrap=False, criterion=entropy, max_depth=30, max_features=None, min_samples_leaf=4, min_samples_split=5, n_estimators=100; total time= 2.0min\n",
      "[CV] END bootstrap=False, criterion=entropy, max_depth=40, max_features=log2, min_samples_leaf=4, min_samples_split=10, n_estimators=200; total time=  45.0s\n",
      "[CV] END bootstrap=False, criterion=entropy, max_depth=30, max_features=None, min_samples_leaf=4, min_samples_split=5, n_estimators=100; total time= 2.0min\n",
      "[CV] END bootstrap=False, criterion=entropy, max_depth=40, max_features=log2, min_samples_leaf=4, min_samples_split=10, n_estimators=200; total time=  45.0s\n",
      "[CV] END bootstrap=False, criterion=entropy, max_depth=40, max_features=log2, min_samples_leaf=4, min_samples_split=10, n_estimators=200; total time=  44.8s\n",
      "[CV] END bootstrap=False, criterion=entropy, max_depth=30, max_features=log2, min_samples_leaf=1, min_samples_split=2, n_estimators=150; total time=  38.4s\n",
      "[CV] END bootstrap=False, criterion=entropy, max_depth=30, max_features=log2, min_samples_leaf=1, min_samples_split=2, n_estimators=150; total time=  38.7s\n",
      "[CV] END bootstrap=False, criterion=entropy, max_depth=30, max_features=log2, min_samples_leaf=1, min_samples_split=2, n_estimators=150; total time=  38.7s\n",
      "[CV] END bootstrap=True, criterion=gini, max_depth=20, max_features=sqrt, min_samples_leaf=4, min_samples_split=10, n_estimators=50; total time=   6.2s\n",
      "[CV] END bootstrap=True, criterion=gini, max_depth=20, max_features=sqrt, min_samples_leaf=4, min_samples_split=10, n_estimators=50; total time=   6.1s\n",
      "[CV] END bootstrap=False, criterion=entropy, max_depth=None, max_features=sqrt, min_samples_leaf=2, min_samples_split=2, n_estimators=200; total time=  50.7s\n",
      "[CV] END bootstrap=True, criterion=gini, max_depth=20, max_features=sqrt, min_samples_leaf=4, min_samples_split=10, n_estimators=50; total time=   5.8s\n",
      "[CV] END bootstrap=False, criterion=entropy, max_depth=20, max_features=None, min_samples_leaf=1, min_samples_split=5, n_estimators=150; total time= 3.1min\n",
      "[CV] END bootstrap=True, criterion=gini, max_depth=None, max_features=sqrt, min_samples_leaf=4, min_samples_split=10, n_estimators=150; total time=  18.1s\n",
      "[CV] END bootstrap=True, criterion=gini, max_depth=None, max_features=sqrt, min_samples_leaf=4, min_samples_split=10, n_estimators=150; total time=  19.1s\n",
      "[CV] END bootstrap=False, criterion=entropy, max_depth=20, max_features=None, min_samples_leaf=1, min_samples_split=5, n_estimators=150; total time= 3.1min\n",
      "[CV] END bootstrap=True, criterion=gini, max_depth=None, max_features=sqrt, min_samples_leaf=4, min_samples_split=10, n_estimators=150; total time=  20.8s\n",
      "[CV] END bootstrap=False, criterion=entropy, max_depth=None, max_features=sqrt, min_samples_leaf=2, min_samples_split=2, n_estimators=200; total time=  53.2s\n",
      "[CV] END bootstrap=False, criterion=entropy, max_depth=20, max_features=None, min_samples_leaf=1, min_samples_split=5, n_estimators=150; total time= 3.2min\n",
      "[CV] END bootstrap=False, criterion=entropy, max_depth=None, max_features=sqrt, min_samples_leaf=2, min_samples_split=2, n_estimators=200; total time=  53.4s\n",
      "[CV] END bootstrap=False, criterion=entropy, max_depth=None, max_features=None, min_samples_leaf=2, min_samples_split=10, n_estimators=200; total time= 4.2min\n",
      "[CV] END bootstrap=False, criterion=gini, max_depth=10, max_features=None, min_samples_leaf=2, min_samples_split=10, n_estimators=200; total time= 2.3min\n",
      "[CV] END bootstrap=False, criterion=entropy, max_depth=None, max_features=None, min_samples_leaf=2, min_samples_split=10, n_estimators=200; total time= 4.2min\n",
      "[CV] END bootstrap=False, criterion=gini, max_depth=10, max_features=None, min_samples_leaf=2, min_samples_split=10, n_estimators=200; total time= 2.3min\n",
      "[CV] END bootstrap=False, criterion=entropy, max_depth=None, max_features=None, min_samples_leaf=2, min_samples_split=10, n_estimators=200; total time= 4.4min\n",
      "[CV] END bootstrap=False, criterion=gini, max_depth=40, max_features=sqrt, min_samples_leaf=1, min_samples_split=10, n_estimators=100; total time=  20.7s\n",
      "[CV] END bootstrap=False, criterion=gini, max_depth=10, max_features=None, min_samples_leaf=2, min_samples_split=10, n_estimators=200; total time= 2.4min\n",
      "[CV] END bootstrap=False, criterion=gini, max_depth=40, max_features=sqrt, min_samples_leaf=1, min_samples_split=10, n_estimators=100; total time=  21.1s\n",
      "[CV] END bootstrap=False, criterion=gini, max_depth=40, max_features=sqrt, min_samples_leaf=1, min_samples_split=10, n_estimators=100; total time=  21.3s\n",
      "[CV] END bootstrap=False, criterion=entropy, max_depth=30, max_features=sqrt, min_samples_leaf=1, min_samples_split=2, n_estimators=200; total time=  56.2s\n",
      "[CV] END bootstrap=True, criterion=gini, max_depth=10, max_features=sqrt, min_samples_leaf=2, min_samples_split=2, n_estimators=50; total time=   4.8s\n",
      "[CV] END bootstrap=True, criterion=gini, max_depth=10, max_features=sqrt, min_samples_leaf=2, min_samples_split=2, n_estimators=50; total time=   4.7s\n",
      "[CV] END bootstrap=False, criterion=entropy, max_depth=30, max_features=sqrt, min_samples_leaf=1, min_samples_split=2, n_estimators=200; total time=  55.8s\n",
      "[CV] END bootstrap=True, criterion=gini, max_depth=10, max_features=sqrt, min_samples_leaf=2, min_samples_split=2, n_estimators=50; total time=   4.5s\n",
      "[CV] END bootstrap=False, criterion=entropy, max_depth=30, max_features=sqrt, min_samples_leaf=1, min_samples_split=2, n_estimators=200; total time=  55.2s\n",
      "[CV] END bootstrap=True, criterion=gini, max_depth=None, max_features=None, min_samples_leaf=4, min_samples_split=2, n_estimators=50; total time=  33.3s\n",
      "[CV] END bootstrap=True, criterion=gini, max_depth=None, max_features=None, min_samples_leaf=4, min_samples_split=2, n_estimators=50; total time=  33.7s\n",
      "[CV] END bootstrap=True, criterion=gini, max_depth=None, max_features=None, min_samples_leaf=4, min_samples_split=2, n_estimators=50; total time=  34.3s\n",
      "[CV] END bootstrap=True, criterion=entropy, max_depth=30, max_features=log2, min_samples_leaf=1, min_samples_split=5, n_estimators=200; total time=  33.8s\n",
      "[CV] END bootstrap=True, criterion=entropy, max_depth=30, max_features=log2, min_samples_leaf=1, min_samples_split=5, n_estimators=200; total time=  34.0s\n",
      "[CV] END bootstrap=False, criterion=entropy, max_depth=40, max_features=None, min_samples_leaf=4, min_samples_split=2, n_estimators=150; total time= 3.2min\n",
      "[CV] END bootstrap=True, criterion=entropy, max_depth=30, max_features=log2, min_samples_leaf=1, min_samples_split=5, n_estimators=200; total time=  34.6s\n",
      "[CV] END bootstrap=True, criterion=entropy, max_depth=30, max_features=None, min_samples_leaf=1, min_samples_split=5, n_estimators=100; total time= 1.4min\n",
      "[CV] END bootstrap=False, criterion=entropy, max_depth=20, max_features=log2, min_samples_leaf=2, min_samples_split=10, n_estimators=100; total time=  24.4s\n",
      "[CV] END bootstrap=True, criterion=entropy, max_depth=30, max_features=None, min_samples_leaf=1, min_samples_split=5, n_estimators=100; total time= 1.4min\n",
      "[CV] END bootstrap=True, criterion=entropy, max_depth=30, max_features=None, min_samples_leaf=1, min_samples_split=5, n_estimators=100; total time= 1.4min\n",
      "[CV] END bootstrap=True, criterion=gini, max_depth=20, max_features=log2, min_samples_leaf=2, min_samples_split=5, n_estimators=100; total time=  13.6s\n",
      "[CV] END bootstrap=False, criterion=entropy, max_depth=40, max_features=None, min_samples_leaf=4, min_samples_split=2, n_estimators=150; total time= 3.3min\n",
      "[CV] END bootstrap=True, criterion=gini, max_depth=20, max_features=log2, min_samples_leaf=2, min_samples_split=5, n_estimators=100; total time=  13.4s\n",
      "[CV] END bootstrap=True, criterion=gini, max_depth=20, max_features=log2, min_samples_leaf=2, min_samples_split=5, n_estimators=100; total time=  13.5s\n",
      "[CV] END bootstrap=False, criterion=entropy, max_depth=40, max_features=None, min_samples_leaf=4, min_samples_split=2, n_estimators=150; total time= 3.2min\n",
      "[CV] END bootstrap=False, criterion=entropy, max_depth=20, max_features=log2, min_samples_leaf=2, min_samples_split=10, n_estimators=100; total time=  26.0s\n",
      "[CV] END bootstrap=False, criterion=entropy, max_depth=20, max_features=log2, min_samples_leaf=2, min_samples_split=10, n_estimators=100; total time=  25.4s\n",
      "[CV] END bootstrap=False, criterion=entropy, max_depth=10, max_features=log2, min_samples_leaf=4, min_samples_split=2, n_estimators=50; total time=   8.6s\n",
      "[CV] END bootstrap=True, criterion=gini, max_depth=40, max_features=log2, min_samples_leaf=1, min_samples_split=2, n_estimators=150; total time=  21.8s\n",
      "[CV] END bootstrap=True, criterion=gini, max_depth=40, max_features=log2, min_samples_leaf=1, min_samples_split=2, n_estimators=150; total time=  22.1s\n",
      "[CV] END bootstrap=True, criterion=gini, max_depth=40, max_features=log2, min_samples_leaf=1, min_samples_split=2, n_estimators=150; total time=  21.9s\n",
      "[CV] END bootstrap=False, criterion=entropy, max_depth=10, max_features=log2, min_samples_leaf=4, min_samples_split=2, n_estimators=50; total time=   8.7s\n",
      "[CV] END bootstrap=False, criterion=entropy, max_depth=10, max_features=log2, min_samples_leaf=4, min_samples_split=2, n_estimators=50; total time=   8.7s\n",
      "[CV] END bootstrap=True, criterion=gini, max_depth=10, max_features=sqrt, min_samples_leaf=1, min_samples_split=5, n_estimators=50; total time=   4.9s\n",
      "[CV] END bootstrap=True, criterion=gini, max_depth=10, max_features=sqrt, min_samples_leaf=1, min_samples_split=5, n_estimators=50; total time=   4.8s\n",
      "[CV] END bootstrap=True, criterion=gini, max_depth=10, max_features=sqrt, min_samples_leaf=1, min_samples_split=5, n_estimators=50; total time=   5.0s\n",
      "[CV] END bootstrap=False, criterion=gini, max_depth=40, max_features=sqrt, min_samples_leaf=4, min_samples_split=5, n_estimators=150; total time=  30.1s\n",
      "[CV] END bootstrap=False, criterion=gini, max_depth=40, max_features=sqrt, min_samples_leaf=4, min_samples_split=5, n_estimators=150; total time=  30.1s\n",
      "[CV] END bootstrap=False, criterion=gini, max_depth=40, max_features=sqrt, min_samples_leaf=4, min_samples_split=5, n_estimators=150; total time=  29.9s\n",
      "[CV] END bootstrap=False, criterion=gini, max_depth=30, max_features=sqrt, min_samples_leaf=4, min_samples_split=10, n_estimators=200; total time=  35.8s\n",
      "[CV] END bootstrap=False, criterion=gini, max_depth=30, max_features=sqrt, min_samples_leaf=4, min_samples_split=10, n_estimators=200; total time=  35.2s\n",
      "[CV] END bootstrap=False, criterion=gini, max_depth=30, max_features=sqrt, min_samples_leaf=4, min_samples_split=10, n_estimators=200; total time=  35.5s\n",
      "[CV] END bootstrap=False, criterion=entropy, max_depth=30, max_features=None, min_samples_leaf=4, min_samples_split=2, n_estimators=100; total time= 2.0min\n",
      "[CV] END bootstrap=False, criterion=entropy, max_depth=30, max_features=None, min_samples_leaf=4, min_samples_split=2, n_estimators=100; total time= 2.1min\n",
      "[CV] END bootstrap=False, criterion=entropy, max_depth=30, max_features=None, min_samples_leaf=4, min_samples_split=2, n_estimators=100; total time= 2.0min\n",
      "[CV] END bootstrap=True, criterion=entropy, max_depth=20, max_features=None, min_samples_leaf=2, min_samples_split=2, n_estimators=150; total time= 1.8min\n",
      "[CV] END bootstrap=True, criterion=entropy, max_depth=20, max_features=None, min_samples_leaf=2, min_samples_split=2, n_estimators=150; total time= 1.8min\n",
      "[CV] END bootstrap=True, criterion=entropy, max_depth=20, max_features=None, min_samples_leaf=2, min_samples_split=2, n_estimators=150; total time= 1.7min\n"
     ]
    }
   ],
   "source": [
    "startTime = time.time()\n",
    "\n",
    "model = RandomizedSearchCV(\n",
    "    estimator=randomForest,\n",
    "    param_distributions=paramiterGrid,\n",
    "    n_iter=50,  \n",
    "    cv=3,       \n",
    "    verbose=2,  \n",
    "    n_jobs=-1,  \n",
    "    scoring=\"accuracy\"\n",
    ")\n",
    "\n",
    "model.fit(X_train, y_train)\n",
    "\n",
    "bestParameter = model.best_estimator_\n",
    "\n",
    "y_pred = bestParameter.predict(X_test)\n",
    "\n",
    "endTime = time.time()\n",
    "executionTime = endTime - startTime\n",
    "hours = int(executionTime // 3600)\n",
    "minutes = int((executionTime % 3600) // 60)\n",
    "seconds = executionTime % 60"
   ]
  },
  {
   "cell_type": "markdown",
   "metadata": {},
   "source": [
    "# Print the results"
   ]
  },
  {
   "cell_type": "code",
   "execution_count": 9,
   "metadata": {},
   "outputs": [
    {
     "name": "stdout",
     "output_type": "stream",
     "text": [
      "\n",
      "Best Parameters Found: RandomForestClassifier(bootstrap=False, criterion='entropy', max_depth=30,\n",
      "                       max_features='log2', n_estimators=150)\n",
      "\n",
      "Confusion Matrix:\n",
      "[[4111  553]\n",
      " [ 790 3892]]\n",
      "\n",
      "Classification Report:\n",
      "              precision    recall  f1-score   support\n",
      "\n",
      "           0       0.84      0.88      0.86      4664\n",
      "           1       0.88      0.83      0.85      4682\n",
      "\n",
      "    accuracy                           0.86      9346\n",
      "   macro avg       0.86      0.86      0.86      9346\n",
      "weighted avg       0.86      0.86      0.86      9346\n",
      "\n",
      "\n",
      "Accuracy Score: 0.86\n",
      "Execution Time: 0 hours, 8 minutes, 20.95 seconds\n"
     ]
    }
   ],
   "source": [
    "print(f\"\\nBest Parameters Found: {bestParameter}\")\n",
    "accuracy = accuracy_score(y_test, y_pred)\n",
    "conf_matrix = confusion_matrix(y_test, y_pred)\n",
    "print(\"\\nConfusion Matrix:\")\n",
    "print(conf_matrix)\n",
    "print(\"\\nClassification Report:\")\n",
    "print(classification_report(y_test, y_pred))\n",
    "print(f\"\\nAccuracy Score: {accuracy:.2f}\")\n",
    "print(f\"Execution Time: {hours} hours, {minutes} minutes, {seconds:.2f} seconds\")"
   ]
  },
  {
   "cell_type": "markdown",
   "metadata": {},
   "source": [
    "# Displaying the Confusion Matrix"
   ]
  },
  {
   "cell_type": "code",
   "execution_count": 10,
   "metadata": {},
   "outputs": [
    {
     "data": {
      "text/plain": [
       "<sklearn.metrics._plot.confusion_matrix.ConfusionMatrixDisplay at 0x1395567c0>"
      ]
     },
     "execution_count": 10,
     "metadata": {},
     "output_type": "execute_result"
    },
    {
     "data": {
      "image/png": "[encoded data removed]",
      "text/plain": [
       "<Figure size 640x480 with 2 Axes>"
      ]
     },
     "metadata": {},
     "output_type": "display_data"
    }
   ],
   "source": [
    "disp = ConfusionMatrixDisplay(confusion_matrix=conf_matrix, display_labels=np.unique(y_test))\n",
    "disp.plot()"
   ]
  },
  {
   "cell_type": "markdown",
   "metadata": {},
   "source": [
    "# Ploting the Bar Chart for the Precision, Recall, F1-Score, Accuracy"
   ]
  },
  {
   "cell_type": "code",
   "execution_count": 11,
   "metadata": {},
   "outputs": [
    {
     "data": {
      "image/png": "[encoded data removed]",
      "text/plain": [
       "<Figure size 640x480 with 1 Axes>"
      ]
     },
     "metadata": {},
     "output_type": "display_data"
    }
   ],
   "source": [
    "classification_report_dict = classification_report(y_test, y_pred, output_dict=True)\n",
    "metrics = ['Precision', 'Recall', 'F1-Score', 'Accuracy']\n",
    "precision = classification_report_dict['1']['precision']\n",
    "recall = classification_report_dict['1']['recall']\n",
    "f1_score = classification_report_dict['1']['f1-score']\n",
    "\n",
    "metric_values = [precision, recall, f1_score, accuracy]\n",
    "\n",
    "plt.bar(metrics, metric_values, color=['blue', 'green', 'orange', 'red'])\n",
    "plt.title('Performance Metrics')\n",
    "plt.ylabel('Score')\n",
    "plt.ylim(0, 1)\n",
    "for i, v in enumerate(metric_values):\n",
    "    plt.text(i, v + 0.02, f\"{v:.2f}\", ha='center')\n",
    "plt.show()"
   ]
  }
 ],
 "metadata": {
  "kernelspec": {
   "display_name": "Python 3",
   "language": "python",
   "name": "python3"
  },
  "language_info": {
   "codemirror_mode": {
    "name": "ipython",
    "version": 3
   },
   "file_extension": ".py",
   "mimetype": "text/x-python",
   "name": "python",
   "nbconvert_exporter": "python",
   "pygments_lexer": "ipython3",
   "version": "3.9.6"
  }
 },
 "nbformat": 4,
 "nbformat_minor": 2
}
